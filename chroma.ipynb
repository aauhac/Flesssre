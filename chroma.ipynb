{
  "cells": [
    {
      "cell_type": "code",
      "source": [
        "!pip install bs4"
      ],
      "metadata": {
        "colab": {
          "base_uri": "https://localhost:8080/"
        },
        "id": "a5OTGq4FynYh",
        "outputId": "f788006a-5fd2-47ea-f74e-35229400b82d"
      },
      "execution_count": null,
      "outputs": [
        {
          "output_type": "stream",
          "name": "stdout",
          "text": [
            "Requirement already satisfied: bs4 in /usr/local/lib/python3.10/dist-packages (0.0.1)\n",
            "Requirement already satisfied: beautifulsoup4 in /usr/local/lib/python3.10/dist-packages (from bs4) (4.11.2)\n",
            "Requirement already satisfied: soupsieve>1.2 in /usr/local/lib/python3.10/dist-packages (from beautifulsoup4->bs4) (2.5)\n"
          ]
        }
      ]
    },
    {
      "cell_type": "code",
      "source": [
        "from bs4 import BeautifulSoup\n",
        "import requests\n",
        "\n",
        "cont = {}\n",
        "for i in range(2):\n",
        "  headers = {\"User-Agent\": \"Mozilla/5.0 (Windows NT 6.3; WOW64) AppleWebKit/537.36 (KHTML, like Gecko) Chrome/44.0.2403.157 Safari/537.36\"}\n",
        "  url = f'https://www.kumoh.ac.kr/ko/sub06_01_01_01.do?mode=list&&articleLimit=10&article.offset={i*10}'\n",
        "  res = requests.get(url, headers=headers)\n",
        "  soup = BeautifulSoup(res.text, 'lxml')\n",
        "\n",
        "  contents = soup.select('tbody > tr > td.title.left > a')\n",
        "  for i in contents:\n",
        "    cont[i.get(\"title\")] = 'https://www.kumoh.ac.kr/ko/sub06_01_01_01.do'+ i.get(\"href\")\n",
        "print(cont)\n"
      ],
      "metadata": {
        "colab": {
          "base_uri": "https://localhost:8080/"
        },
        "id": "zauHB6uE9eYJ",
        "outputId": "09f6e6d4-f1ed-4287-8c6f-49137b88c240"
      },
      "execution_count": null,
      "outputs": [
        {
          "output_type": "stream",
          "name": "stdout",
          "text": [
            "{'2023학년도 2학기 등록금 납부 안내(최종: 2023.9.25.~26.)': 'https://www.kumoh.ac.kr/ko/sub06_01_01_01.do?mode=view&articleNo=463875&article.offset=10&articleLimit=10', '수업 중 실시간  출결 처리 시 전자출결 앱 사용 유의사항 안내': 'https://www.kumoh.ac.kr/ko/sub06_01_01_01.do?mode=view&articleNo=462992&article.offset=10&articleLimit=10', '10/2(월,임시공휴일) 휴강 및 국가공휴일 휴강에 따른 보강일(공휴일지정보강기간) 안내': 'https://www.kumoh.ac.kr/ko/sub06_01_01_01.do?mode=view&articleNo=461678&article.offset=10&articleLimit=10', '2023학년도 2학기 취업진로상담 교과목 시행안내': 'https://www.kumoh.ac.kr/ko/sub06_01_01_01.do?mode=view&articleNo=461550&article.offset=10&articleLimit=10', '★ 2023학년도 2학기 휴학/복학 신청(3차) 안내 및 직권제적/휴학연장 관련 안내': 'https://www.kumoh.ac.kr/ko/sub06_01_01_01.do?mode=view&articleNo=457290&article.offset=10&articleLimit=10', '2023-2학기 공결신청 방법 및 유의사항 안내': 'https://www.kumoh.ac.kr/ko/sub06_01_01_01.do?mode=view&articleNo=456000&article.offset=10&articleLimit=10', '[재공지][학생성공처]2023학년도 KIT역량장학금(K-WEGO) 안내': 'https://www.kumoh.ac.kr/ko/sub06_01_01_01.do?mode=view&articleNo=449405&article.offset=10&articleLimit=10', '[LINC3.0] 2023년 국내 현장견학 지원금 신청 안내': 'https://www.kumoh.ac.kr/ko/sub06_01_01_01.do?mode=view&articleNo=427508&article.offset=10&articleLimit=10', '★ 학적부 기재사항 현행화 요청 및 정정 신청 안내': 'https://www.kumoh.ac.kr/ko/sub06_01_01_01.do?mode=view&articleNo=425744&article.offset=10&articleLimit=10', '「금오공과대학교 장학금 지급 지침」 개정 안내': 'https://www.kumoh.ac.kr/ko/sub06_01_01_01.do?mode=view&articleNo=422782&article.offset=10&articleLimit=10', '2023-2학기 대학원별 졸업종합시험 일시 및 장소 안내': 'https://www.kumoh.ac.kr/ko/sub06_01_01_01.do?mode=view&articleNo=463963&article.offset=0&articleLimit=10', '2023-2학기 대학원별 외국어시험 면제 신청 안내': 'https://www.kumoh.ac.kr/ko/sub06_01_01_01.do?mode=view&articleNo=463933&article.offset=0&articleLimit=10', '2023-2학기 대학원별 성적취소 신청 안내': 'https://www.kumoh.ac.kr/ko/sub06_01_01_01.do?mode=view&articleNo=463926&article.offset=0&articleLimit=10', '2023학년도 2학기 등록금 분할납부 2차분 등록기간 안내': 'https://www.kumoh.ac.kr/ko/sub06_01_01_01.do?mode=view&articleNo=463880&article.offset=0&articleLimit=10', '2023학년도 2학기 성적취소 신청 안내': 'https://www.kumoh.ac.kr/ko/sub06_01_01_01.do?mode=view&articleNo=463766&article.offset=0&articleLimit=10', '2023년 2학기 안산시 대학생 본인부담 등록금 반값지원 안내': 'https://www.kumoh.ac.kr/ko/sub06_01_01_01.do?mode=view&articleNo=463404&article.offset=0&articleLimit=10', '2023학년도 2학기 등록금 납부 안내(최종)': 'https://www.kumoh.ac.kr/ko/sub06_01_01_01.do?mode=view&articleNo=463290&article.offset=0&articleLimit=10', '2023년 2학기 「한국장학재단 취업연계유형 국가근로」  ㈜ 에스테크원 참여학생 모집': 'https://www.kumoh.ac.kr/ko/sub06_01_01_01.do?mode=view&articleNo=463211&article.offset=0&articleLimit=10', '2023년 고속도로 장학생 선발 안내': 'https://www.kumoh.ac.kr/ko/sub06_01_01_01.do?mode=view&articleNo=463011&article.offset=0&articleLimit=10', '2023 글로컬마케터 전문가 양성  프로그램 지원자 모집  ': 'https://www.kumoh.ac.kr/ko/sub06_01_01_01.do?mode=view&articleNo=462931&article.offset=0&articleLimit=10', '[근로] 2023-2학기 프랭크버거(생협) 근로장학생 모집': 'https://www.kumoh.ac.kr/ko/sub06_01_01_01.do?mode=view&articleNo=462819&article.offset=10&articleLimit=10', '[장학] 대학원생 장학금 지급 계좌 등록 방법 안내': 'https://www.kumoh.ac.kr/ko/sub06_01_01_01.do?mode=view&articleNo=462752&article.offset=10&articleLimit=10', '2023학년도 2학기 등록금 납부 안내(추가3차)': 'https://www.kumoh.ac.kr/ko/sub06_01_01_01.do?mode=view&articleNo=462303&article.offset=10&articleLimit=10', '[10/4-10/6] 2023-2학기 군복무 중 취득학점 인정 신청 안내': 'https://www.kumoh.ac.kr/ko/sub06_01_01_01.do?mode=view&articleNo=462248&article.offset=10&articleLimit=10', '2023-2학기 중소기업 취업연계 장학사업(희망사다리 I유형) 신규장학생 신청 안내': 'https://www.kumoh.ac.kr/ko/sub06_01_01_01.do?mode=view&articleNo=462166&article.offset=10&articleLimit=10', '2023-2학기 고졸 후학습자 장학사업(희망사다리 II유형) 신규장학생 신청 안내(신청기간 연장)': 'https://www.kumoh.ac.kr/ko/sub06_01_01_01.do?mode=view&articleNo=462159&article.offset=10&articleLimit=10', '2023학년도 2학기 전자저널 및 온라인 학술DB 이용안내': 'https://www.kumoh.ac.kr/ko/sub06_01_01_01.do?mode=view&articleNo=462115&article.offset=10&articleLimit=10', '2023-2학기 의사순회진료 실시 안내': 'https://www.kumoh.ac.kr/ko/sub06_01_01_01.do?mode=view&articleNo=462058&article.offset=10&articleLimit=10', \"'생명 나눔 사랑의 헌혈' 실시 안내\": 'https://www.kumoh.ac.kr/ko/sub06_01_01_01.do?mode=view&articleNo=462043&article.offset=10&articleLimit=10', '2023-2학기 대학원별 전적대학원 학점인정 신청 안내': 'https://www.kumoh.ac.kr/ko/sub06_01_01_01.do?mode=view&articleNo=462025&article.offset=10&articleLimit=10'}\n"
          ]
        }
      ]
    },
    {
      "cell_type": "code",
      "source": [
        "import re\n",
        "\n",
        "sen_list = []\n",
        "i = 0\n",
        "count = len(cont)\n",
        "headers = {\"User-Agent\": \"Mozilla/5.0 (Windows NT 6.3; WOW64) AppleWebKit/537.36 (KHTML, like Gecko) Chrome/44.0.2403.157 Safari/537.36\"}\n",
        "for link in cont.values():\n",
        "  print(f\"크롤링 중({count-i}개)\",end = \" \")\n",
        "  i += 1\n",
        "  r = requests.get(link, headers=headers)\n",
        "  s = BeautifulSoup(r.text, 'lxml')\n",
        "\n",
        "  c = s.select(\"#jwxe_main_content > div.contents-wrapper > div.board-area.ko.board.view > div.board-wrap > div > div.board-contents > p > span\")\n",
        "  le = \"\"\n",
        "  for word in c:\n",
        "    le += word.text.strip()\n",
        "  sen_list.append(re.sub(r\"[^\\uAC00-\\uD7A30-9a-zA-Z\\s().,-/:~\"\"'']\", \" \", le))"
      ],
      "metadata": {
        "colab": {
          "base_uri": "https://localhost:8080/"
        },
        "id": "kaYSooLa_fGs",
        "outputId": "78cbaf33-7df6-45ae-e8b9-fab059391a01"
      },
      "execution_count": null,
      "outputs": [
        {
          "output_type": "stream",
          "name": "stdout",
          "text": [
            "크롤링 중(30개) 크롤링 중(29개) 크롤링 중(28개) 크롤링 중(27개) 크롤링 중(26개) 크롤링 중(25개) 크롤링 중(24개) 크롤링 중(23개) 크롤링 중(22개) 크롤링 중(21개) 크롤링 중(20개) 크롤링 중(19개) 크롤링 중(18개) 크롤링 중(17개) 크롤링 중(16개) 크롤링 중(15개) 크롤링 중(14개) 크롤링 중(13개) 크롤링 중(12개) 크롤링 중(11개) 크롤링 중(10개) 크롤링 중(9개) 크롤링 중(8개) 크롤링 중(7개) 크롤링 중(6개) 크롤링 중(5개) 크롤링 중(4개) 크롤링 중(3개) 크롤링 중(2개) 크롤링 중(1개) "
          ]
        }
      ]
    },
    {
      "cell_type": "code",
      "source": [
        "sf_list = []\n",
        "for i in sen_list:\n",
        "  a = list(i.split(\".\"))\n",
        "  for i in range(len(a)):\n",
        "    a[i] = a[i] + \"\\n\"\n",
        "  sf_list.append(a)\n"
      ],
      "metadata": {
        "id": "bU6bSq2h7XTW"
      },
      "execution_count": null,
      "outputs": []
    },
    {
      "cell_type": "code",
      "source": [
        "crawling = dict(zip(cont.keys(),sf_list))"
      ],
      "metadata": {
        "id": "V7SMjmc_4Aad"
      },
      "execution_count": null,
      "outputs": []
    },
    {
      "cell_type": "code",
      "source": [
        "\"\"\"del_k = []\n",
        "for title, text in crawling.items():\n",
        "  if text == ['']:\n",
        "    del_k.append(title)\n",
        "for i in del_k:\n",
        "  del crawling[i]\"\"\""
      ],
      "metadata": {
        "colab": {
          "base_uri": "https://localhost:8080/",
          "height": 35
        },
        "id": "BCYoQk4o953f",
        "outputId": "a0995646-7f73-4d0f-f419-48c3390c83bc"
      },
      "execution_count": null,
      "outputs": [
        {
          "output_type": "execute_result",
          "data": {
            "text/plain": [
              "\"del_k = []\\nfor title, text in crawling.items():\\n  if text == ['']:\\n    del_k.append(title)\\nfor i in del_k:\\n  del crawling[i]\""
            ],
            "application/vnd.google.colaboratory.intrinsic+json": {
              "type": "string"
            }
          },
          "metadata": {},
          "execution_count": 289
        }
      ]
    },
    {
      "cell_type": "code",
      "execution_count": null,
      "metadata": {
        "colab": {
          "base_uri": "https://localhost:8080/"
        },
        "id": "1TlQ0UzIt_6s",
        "outputId": "ee708591-8b84-4812-8016-6edba14b330d"
      },
      "outputs": [
        {
          "output_type": "stream",
          "name": "stdout",
          "text": [
            "Drive already mounted at /content/drive; to attempt to forcibly remount, call drive.mount(\"/content/drive\", force_remount=True).\n"
          ]
        }
      ],
      "source": [
        "#구글드라이브 마운트하기\n",
        "from google.colab import drive\n",
        "drive.mount('/content/drive')"
      ]
    },
    {
      "cell_type": "code",
      "source": [
        "for title, text in crawling.items():\n",
        "  title = title.replace(\"/\",\"-\")\n",
        "  if text == ['']:\n",
        "    continue\n",
        "  path = f'/content/drive/My Drive/Colab Notebooks/data/kit_text/{title}.txt'\n",
        "  with open(path,'w') as f:\n",
        "    for line in text:\n",
        "      f.write(line)"
      ],
      "metadata": {
        "id": "IX5ECdw95Z6t"
      },
      "execution_count": null,
      "outputs": []
    },
    {
      "cell_type": "code",
      "execution_count": null,
      "metadata": {
        "colab": {
          "base_uri": "https://localhost:8080/"
        },
        "id": "LOBN1aPStIf0",
        "outputId": "9b6cb884-63bd-4f45-b8ed-ec84a336becf"
      },
      "outputs": [
        {
          "output_type": "stream",
          "name": "stdout",
          "text": [
            "Requirement already satisfied: langchain in /usr/local/lib/python3.10/dist-packages (0.0.299)\n",
            "Requirement already satisfied: unstructured in /usr/local/lib/python3.10/dist-packages (0.10.16)\n",
            "Requirement already satisfied: openai in /usr/local/lib/python3.10/dist-packages (0.28.0)\n",
            "Requirement already satisfied: chromadb in /usr/local/lib/python3.10/dist-packages (0.4.12)\n",
            "Requirement already satisfied: Cython in /usr/local/lib/python3.10/dist-packages (3.0.2)\n",
            "Requirement already satisfied: tiktoken in /usr/local/lib/python3.10/dist-packages (0.5.1)\n",
            "Requirement already satisfied: pypdf in /usr/local/lib/python3.10/dist-packages (3.16.1)\n",
            "Requirement already satisfied: PyYAML>=5.3 in /usr/local/lib/python3.10/dist-packages (from langchain) (6.0.1)\n",
            "Requirement already satisfied: SQLAlchemy<3,>=1.4 in /usr/local/lib/python3.10/dist-packages (from langchain) (2.0.20)\n",
            "Requirement already satisfied: aiohttp<4.0.0,>=3.8.3 in /usr/local/lib/python3.10/dist-packages (from langchain) (3.8.5)\n",
            "Requirement already satisfied: anyio<4.0 in /usr/local/lib/python3.10/dist-packages (from langchain) (3.7.1)\n",
            "Requirement already satisfied: async-timeout<5.0.0,>=4.0.0 in /usr/local/lib/python3.10/dist-packages (from langchain) (4.0.3)\n",
            "Requirement already satisfied: dataclasses-json<0.7,>=0.5.7 in /usr/local/lib/python3.10/dist-packages (from langchain) (0.6.0)\n",
            "Requirement already satisfied: jsonpatch<2.0,>=1.33 in /usr/local/lib/python3.10/dist-packages (from langchain) (1.33)\n",
            "Requirement already satisfied: langsmith<0.1.0,>=0.0.38 in /usr/local/lib/python3.10/dist-packages (from langchain) (0.0.40)\n",
            "Requirement already satisfied: numexpr<3.0.0,>=2.8.4 in /usr/local/lib/python3.10/dist-packages (from langchain) (2.8.5)\n",
            "Requirement already satisfied: numpy<2,>=1 in /usr/local/lib/python3.10/dist-packages (from langchain) (1.23.5)\n",
            "Requirement already satisfied: pydantic<3,>=1 in /usr/local/lib/python3.10/dist-packages (from langchain) (1.10.12)\n",
            "Requirement already satisfied: requests<3,>=2 in /usr/local/lib/python3.10/dist-packages (from langchain) (2.31.0)\n",
            "Requirement already satisfied: tenacity<9.0.0,>=8.1.0 in /usr/local/lib/python3.10/dist-packages (from langchain) (8.2.3)\n",
            "Requirement already satisfied: chardet in /usr/local/lib/python3.10/dist-packages (from unstructured) (5.2.0)\n",
            "Requirement already satisfied: filetype in /usr/local/lib/python3.10/dist-packages (from unstructured) (1.2.0)\n",
            "Requirement already satisfied: python-magic in /usr/local/lib/python3.10/dist-packages (from unstructured) (0.4.27)\n",
            "Requirement already satisfied: lxml in /usr/local/lib/python3.10/dist-packages (from unstructured) (4.9.3)\n",
            "Requirement already satisfied: nltk in /usr/local/lib/python3.10/dist-packages (from unstructured) (3.8.1)\n",
            "Requirement already satisfied: tabulate in /usr/local/lib/python3.10/dist-packages (from unstructured) (0.9.0)\n",
            "Requirement already satisfied: beautifulsoup4 in /usr/local/lib/python3.10/dist-packages (from unstructured) (4.11.2)\n",
            "Requirement already satisfied: emoji in /usr/local/lib/python3.10/dist-packages (from unstructured) (2.8.0)\n",
            "Requirement already satisfied: python-iso639 in /usr/local/lib/python3.10/dist-packages (from unstructured) (2023.6.15)\n",
            "Requirement already satisfied: tqdm in /usr/local/lib/python3.10/dist-packages (from openai) (4.66.1)\n",
            "Requirement already satisfied: chroma-hnswlib==0.7.3 in /usr/local/lib/python3.10/dist-packages (from chromadb) (0.7.3)\n",
            "Requirement already satisfied: fastapi<0.100.0,>=0.95.2 in /usr/local/lib/python3.10/dist-packages (from chromadb) (0.99.1)\n",
            "Requirement already satisfied: uvicorn[standard]>=0.18.3 in /usr/local/lib/python3.10/dist-packages (from chromadb) (0.23.2)\n",
            "Requirement already satisfied: posthog>=2.4.0 in /usr/local/lib/python3.10/dist-packages (from chromadb) (3.0.2)\n",
            "Requirement already satisfied: typing-extensions>=4.5.0 in /usr/local/lib/python3.10/dist-packages (from chromadb) (4.5.0)\n",
            "Requirement already satisfied: pulsar-client>=3.1.0 in /usr/local/lib/python3.10/dist-packages (from chromadb) (3.3.0)\n",
            "Requirement already satisfied: onnxruntime>=1.14.1 in /usr/local/lib/python3.10/dist-packages (from chromadb) (1.16.0)\n",
            "Requirement already satisfied: tokenizers>=0.13.2 in /usr/local/lib/python3.10/dist-packages (from chromadb) (0.13.3)\n",
            "Requirement already satisfied: pypika>=0.48.9 in /usr/local/lib/python3.10/dist-packages (from chromadb) (0.48.9)\n",
            "Requirement already satisfied: overrides>=7.3.1 in /usr/local/lib/python3.10/dist-packages (from chromadb) (7.4.0)\n",
            "Requirement already satisfied: importlib-resources in /usr/local/lib/python3.10/dist-packages (from chromadb) (6.0.1)\n",
            "Requirement already satisfied: bcrypt>=4.0.1 in /usr/local/lib/python3.10/dist-packages (from chromadb) (4.0.1)\n",
            "Requirement already satisfied: typer>=0.9.0 in /usr/local/lib/python3.10/dist-packages (from chromadb) (0.9.0)\n",
            "Requirement already satisfied: regex>=2022.1.18 in /usr/local/lib/python3.10/dist-packages (from tiktoken) (2023.6.3)\n",
            "Requirement already satisfied: attrs>=17.3.0 in /usr/local/lib/python3.10/dist-packages (from aiohttp<4.0.0,>=3.8.3->langchain) (23.1.0)\n",
            "Requirement already satisfied: charset-normalizer<4.0,>=2.0 in /usr/local/lib/python3.10/dist-packages (from aiohttp<4.0.0,>=3.8.3->langchain) (3.2.0)\n",
            "Requirement already satisfied: multidict<7.0,>=4.5 in /usr/local/lib/python3.10/dist-packages (from aiohttp<4.0.0,>=3.8.3->langchain) (6.0.4)\n",
            "Requirement already satisfied: yarl<2.0,>=1.0 in /usr/local/lib/python3.10/dist-packages (from aiohttp<4.0.0,>=3.8.3->langchain) (1.9.2)\n",
            "Requirement already satisfied: frozenlist>=1.1.1 in /usr/local/lib/python3.10/dist-packages (from aiohttp<4.0.0,>=3.8.3->langchain) (1.4.0)\n",
            "Requirement already satisfied: aiosignal>=1.1.2 in /usr/local/lib/python3.10/dist-packages (from aiohttp<4.0.0,>=3.8.3->langchain) (1.3.1)\n",
            "Requirement already satisfied: idna>=2.8 in /usr/local/lib/python3.10/dist-packages (from anyio<4.0->langchain) (3.4)\n",
            "Requirement already satisfied: sniffio>=1.1 in /usr/local/lib/python3.10/dist-packages (from anyio<4.0->langchain) (1.3.0)\n",
            "Requirement already satisfied: exceptiongroup in /usr/local/lib/python3.10/dist-packages (from anyio<4.0->langchain) (1.1.3)\n",
            "Requirement already satisfied: marshmallow<4.0.0,>=3.18.0 in /usr/local/lib/python3.10/dist-packages (from dataclasses-json<0.7,>=0.5.7->langchain) (3.20.1)\n",
            "Requirement already satisfied: typing-inspect<1,>=0.4.0 in /usr/local/lib/python3.10/dist-packages (from dataclasses-json<0.7,>=0.5.7->langchain) (0.9.0)\n",
            "Requirement already satisfied: starlette<0.28.0,>=0.27.0 in /usr/local/lib/python3.10/dist-packages (from fastapi<0.100.0,>=0.95.2->chromadb) (0.27.0)\n",
            "Requirement already satisfied: jsonpointer>=1.9 in /usr/local/lib/python3.10/dist-packages (from jsonpatch<2.0,>=1.33->langchain) (2.4)\n",
            "Requirement already satisfied: coloredlogs in /usr/local/lib/python3.10/dist-packages (from onnxruntime>=1.14.1->chromadb) (15.0.1)\n",
            "Requirement already satisfied: flatbuffers in /usr/local/lib/python3.10/dist-packages (from onnxruntime>=1.14.1->chromadb) (23.5.26)\n",
            "Requirement already satisfied: packaging in /usr/local/lib/python3.10/dist-packages (from onnxruntime>=1.14.1->chromadb) (23.1)\n",
            "Requirement already satisfied: protobuf in /usr/local/lib/python3.10/dist-packages (from onnxruntime>=1.14.1->chromadb) (3.20.3)\n",
            "Requirement already satisfied: sympy in /usr/local/lib/python3.10/dist-packages (from onnxruntime>=1.14.1->chromadb) (1.12)\n",
            "Requirement already satisfied: six>=1.5 in /usr/local/lib/python3.10/dist-packages (from posthog>=2.4.0->chromadb) (1.16.0)\n",
            "Requirement already satisfied: monotonic>=1.5 in /usr/local/lib/python3.10/dist-packages (from posthog>=2.4.0->chromadb) (1.6)\n",
            "Requirement already satisfied: backoff>=1.10.0 in /usr/local/lib/python3.10/dist-packages (from posthog>=2.4.0->chromadb) (2.2.1)\n",
            "Requirement already satisfied: python-dateutil>2.1 in /usr/local/lib/python3.10/dist-packages (from posthog>=2.4.0->chromadb) (2.8.2)\n",
            "Requirement already satisfied: certifi in /usr/local/lib/python3.10/dist-packages (from pulsar-client>=3.1.0->chromadb) (2023.7.22)\n",
            "Requirement already satisfied: urllib3<3,>=1.21.1 in /usr/local/lib/python3.10/dist-packages (from requests<3,>=2->langchain) (2.0.4)\n",
            "Requirement already satisfied: greenlet!=0.4.17 in /usr/local/lib/python3.10/dist-packages (from SQLAlchemy<3,>=1.4->langchain) (2.0.2)\n",
            "Requirement already satisfied: click<9.0.0,>=7.1.1 in /usr/local/lib/python3.10/dist-packages (from typer>=0.9.0->chromadb) (8.1.7)\n",
            "Requirement already satisfied: h11>=0.8 in /usr/local/lib/python3.10/dist-packages (from uvicorn[standard]>=0.18.3->chromadb) (0.14.0)\n",
            "Requirement already satisfied: httptools>=0.5.0 in /usr/local/lib/python3.10/dist-packages (from uvicorn[standard]>=0.18.3->chromadb) (0.6.0)\n",
            "Requirement already satisfied: python-dotenv>=0.13 in /usr/local/lib/python3.10/dist-packages (from uvicorn[standard]>=0.18.3->chromadb) (1.0.0)\n",
            "Requirement already satisfied: uvloop!=0.15.0,!=0.15.1,>=0.14.0 in /usr/local/lib/python3.10/dist-packages (from uvicorn[standard]>=0.18.3->chromadb) (0.17.0)\n",
            "Requirement already satisfied: watchfiles>=0.13 in /usr/local/lib/python3.10/dist-packages (from uvicorn[standard]>=0.18.3->chromadb) (0.20.0)\n",
            "Requirement already satisfied: websockets>=10.4 in /usr/local/lib/python3.10/dist-packages (from uvicorn[standard]>=0.18.3->chromadb) (11.0.3)\n",
            "Requirement already satisfied: soupsieve>1.2 in /usr/local/lib/python3.10/dist-packages (from beautifulsoup4->unstructured) (2.5)\n",
            "Requirement already satisfied: joblib in /usr/local/lib/python3.10/dist-packages (from nltk->unstructured) (1.3.2)\n",
            "Requirement already satisfied: mypy-extensions>=0.3.0 in /usr/local/lib/python3.10/dist-packages (from typing-inspect<1,>=0.4.0->dataclasses-json<0.7,>=0.5.7->langchain) (1.0.0)\n",
            "Requirement already satisfied: humanfriendly>=9.1 in /usr/local/lib/python3.10/dist-packages (from coloredlogs->onnxruntime>=1.14.1->chromadb) (10.0)\n",
            "Requirement already satisfied: mpmath>=0.19 in /usr/local/lib/python3.10/dist-packages (from sympy->onnxruntime>=1.14.1->chromadb) (1.3.0)\n"
          ]
        }
      ],
      "source": [
        "!pip install langchain unstructured openai chromadb Cython tiktoken pypdf"
      ]
    },
    {
      "cell_type": "code",
      "execution_count": null,
      "metadata": {
        "colab": {
          "base_uri": "https://localhost:8080/"
        },
        "id": "31iej-4DzFwy",
        "outputId": "2c11dfae-75bd-4b40-fb5f-8ccbdb2b4415"
      },
      "outputs": [
        {
          "output_type": "stream",
          "name": "stdout",
          "text": [
            "Requirement already satisfied: sentence-transformers in /usr/local/lib/python3.10/dist-packages (2.2.2)\n",
            "Requirement already satisfied: transformers<5.0.0,>=4.6.0 in /usr/local/lib/python3.10/dist-packages (from sentence-transformers) (4.33.2)\n",
            "Requirement already satisfied: tqdm in /usr/local/lib/python3.10/dist-packages (from sentence-transformers) (4.66.1)\n",
            "Requirement already satisfied: torch>=1.6.0 in /usr/local/lib/python3.10/dist-packages (from sentence-transformers) (2.0.1+cu118)\n",
            "Requirement already satisfied: torchvision in /usr/local/lib/python3.10/dist-packages (from sentence-transformers) (0.15.2+cu118)\n",
            "Requirement already satisfied: numpy in /usr/local/lib/python3.10/dist-packages (from sentence-transformers) (1.23.5)\n",
            "Requirement already satisfied: scikit-learn in /usr/local/lib/python3.10/dist-packages (from sentence-transformers) (1.2.2)\n",
            "Requirement already satisfied: scipy in /usr/local/lib/python3.10/dist-packages (from sentence-transformers) (1.11.2)\n",
            "Requirement already satisfied: nltk in /usr/local/lib/python3.10/dist-packages (from sentence-transformers) (3.8.1)\n",
            "Requirement already satisfied: sentencepiece in /usr/local/lib/python3.10/dist-packages (from sentence-transformers) (0.1.99)\n",
            "Requirement already satisfied: huggingface-hub>=0.4.0 in /usr/local/lib/python3.10/dist-packages (from sentence-transformers) (0.16.4)\n",
            "Requirement already satisfied: filelock in /usr/local/lib/python3.10/dist-packages (from huggingface-hub>=0.4.0->sentence-transformers) (3.12.2)\n",
            "Requirement already satisfied: fsspec in /usr/local/lib/python3.10/dist-packages (from huggingface-hub>=0.4.0->sentence-transformers) (2023.6.0)\n",
            "Requirement already satisfied: requests in /usr/local/lib/python3.10/dist-packages (from huggingface-hub>=0.4.0->sentence-transformers) (2.31.0)\n",
            "Requirement already satisfied: pyyaml>=5.1 in /usr/local/lib/python3.10/dist-packages (from huggingface-hub>=0.4.0->sentence-transformers) (6.0.1)\n",
            "Requirement already satisfied: typing-extensions>=3.7.4.3 in /usr/local/lib/python3.10/dist-packages (from huggingface-hub>=0.4.0->sentence-transformers) (4.5.0)\n",
            "Requirement already satisfied: packaging>=20.9 in /usr/local/lib/python3.10/dist-packages (from huggingface-hub>=0.4.0->sentence-transformers) (23.1)\n",
            "Requirement already satisfied: sympy in /usr/local/lib/python3.10/dist-packages (from torch>=1.6.0->sentence-transformers) (1.12)\n",
            "Requirement already satisfied: networkx in /usr/local/lib/python3.10/dist-packages (from torch>=1.6.0->sentence-transformers) (3.1)\n",
            "Requirement already satisfied: jinja2 in /usr/local/lib/python3.10/dist-packages (from torch>=1.6.0->sentence-transformers) (3.1.2)\n",
            "Requirement already satisfied: triton==2.0.0 in /usr/local/lib/python3.10/dist-packages (from torch>=1.6.0->sentence-transformers) (2.0.0)\n",
            "Requirement already satisfied: cmake in /usr/local/lib/python3.10/dist-packages (from triton==2.0.0->torch>=1.6.0->sentence-transformers) (3.27.4.1)\n",
            "Requirement already satisfied: lit in /usr/local/lib/python3.10/dist-packages (from triton==2.0.0->torch>=1.6.0->sentence-transformers) (16.0.6)\n",
            "Requirement already satisfied: regex!=2019.12.17 in /usr/local/lib/python3.10/dist-packages (from transformers<5.0.0,>=4.6.0->sentence-transformers) (2023.6.3)\n",
            "Requirement already satisfied: tokenizers!=0.11.3,<0.14,>=0.11.1 in /usr/local/lib/python3.10/dist-packages (from transformers<5.0.0,>=4.6.0->sentence-transformers) (0.13.3)\n",
            "Requirement already satisfied: safetensors>=0.3.1 in /usr/local/lib/python3.10/dist-packages (from transformers<5.0.0,>=4.6.0->sentence-transformers) (0.3.3)\n",
            "Requirement already satisfied: click in /usr/local/lib/python3.10/dist-packages (from nltk->sentence-transformers) (8.1.7)\n",
            "Requirement already satisfied: joblib in /usr/local/lib/python3.10/dist-packages (from nltk->sentence-transformers) (1.3.2)\n",
            "Requirement already satisfied: threadpoolctl>=2.0.0 in /usr/local/lib/python3.10/dist-packages (from scikit-learn->sentence-transformers) (3.2.0)\n",
            "Requirement already satisfied: pillow!=8.3.*,>=5.3.0 in /usr/local/lib/python3.10/dist-packages (from torchvision->sentence-transformers) (9.4.0)\n",
            "Requirement already satisfied: MarkupSafe>=2.0 in /usr/local/lib/python3.10/dist-packages (from jinja2->torch>=1.6.0->sentence-transformers) (2.1.3)\n",
            "Requirement already satisfied: charset-normalizer<4,>=2 in /usr/local/lib/python3.10/dist-packages (from requests->huggingface-hub>=0.4.0->sentence-transformers) (3.2.0)\n",
            "Requirement already satisfied: idna<4,>=2.5 in /usr/local/lib/python3.10/dist-packages (from requests->huggingface-hub>=0.4.0->sentence-transformers) (3.4)\n",
            "Requirement already satisfied: urllib3<3,>=1.21.1 in /usr/local/lib/python3.10/dist-packages (from requests->huggingface-hub>=0.4.0->sentence-transformers) (2.0.4)\n",
            "Requirement already satisfied: certifi>=2017.4.17 in /usr/local/lib/python3.10/dist-packages (from requests->huggingface-hub>=0.4.0->sentence-transformers) (2023.7.22)\n",
            "Requirement already satisfied: mpmath>=0.19 in /usr/local/lib/python3.10/dist-packages (from sympy->torch>=1.6.0->sentence-transformers) (1.3.0)\n"
          ]
        }
      ],
      "source": [
        "!pip install sentence-transformers"
      ]
    },
    {
      "cell_type": "code",
      "execution_count": null,
      "metadata": {
        "id": "LITCf-ant_2E"
      },
      "outputs": [],
      "source": [
        "import os\n",
        "from langchain.text_splitter import CharacterTextSplitter\n",
        "from langchain.vectorstores import Chroma\n",
        "from langchain.embeddings import SentenceTransformerEmbeddings\n",
        "from langchain.document_loaders import PyPDFLoader\n",
        "from langchain.document_loaders import TextLoader\n",
        "from langchain.document_loaders import DirectoryLoader\n",
        "\n",
        "from langchain.embeddings import OpenAIEmbeddings\n",
        "from langchain.vectorstores import Chroma\n",
        "from langchain.chains import ConversationalRetrievalChain\n",
        "from langchain.memory import ConversationBufferMemory\n",
        "from langchain.llms import OpenAI\n",
        "\n",
        "from langchain.embeddings import LlamaCppEmbeddings, HuggingFaceEmbeddings"
      ]
    },
    {
      "cell_type": "code",
      "execution_count": null,
      "metadata": {
        "id": "E7LXT1M-y_kT"
      },
      "outputs": [],
      "source": [
        "embeddings = HuggingFaceEmbeddings"
      ]
    },
    {
      "cell_type": "code",
      "execution_count": null,
      "metadata": {
        "id": "_-l00ZtFt_-7"
      },
      "outputs": [],
      "source": [
        "fn_dir = \"/content/drive/My Drive/Colab Notebooks/data/kit_text\""
      ]
    },
    {
      "cell_type": "code",
      "execution_count": null,
      "metadata": {
        "colab": {
          "base_uri": "https://localhost:8080/"
        },
        "id": "0s4BY3aGuMge",
        "outputId": "e5c48fbf-c446-4eff-fdb5-37bab92c86c6"
      },
      "outputs": [
        {
          "output_type": "execute_result",
          "data": {
            "text/plain": [
              "(110, 103)"
            ]
          },
          "metadata": {},
          "execution_count": 297
        }
      ],
      "source": [
        "loader = DirectoryLoader(fn_dir)\n",
        "documents = loader.load()\n",
        "\n",
        "text_splitter = CharacterTextSplitter(chunk_size=1000, chunk_overlap=0)\n",
        "docs = text_splitter.split_documents(documents)\n",
        "\n",
        "len(documents), len(docs)"
      ]
    },
    {
      "cell_type": "code",
      "source": [
        "\"\"\"doc = docs\n",
        "a = \"\"\n",
        "w_count = 0\n",
        "doc_count = 0\n",
        "source_list = []\n",
        "for i in doc:\n",
        "  if list(i)[1][1] in source_list:\n",
        "    a += list(i)[0][1]\n",
        "    doc\n",
        "  else :\n",
        "    if w_count != 0:\n",
        "      list(doc[doc_count])[0][1] = a\n",
        "    a = \"\"\n",
        "    a += list(i)[0][1]\n",
        "    source_list.append(list(i)[1][1])\n",
        "    doc_count = w_count\n",
        "  w_count += 1\n",
        "print(doc)\"\"\""
      ],
      "metadata": {
        "colab": {
          "base_uri": "https://localhost:8080/",
          "height": 54
        },
        "id": "RCImMrh6NcVZ",
        "outputId": "a915b6bb-dd53-43b6-cf0c-de1497363cb0"
      },
      "execution_count": null,
      "outputs": [
        {
          "output_type": "execute_result",
          "data": {
            "text/plain": [
              "'doc = docs\\na = \"\"\\nw_count = 0\\ndoc_count = 0\\nsource_list = []\\nfor i in doc:\\n  if list(i)[1][1] in source_list:\\n    a += list(i)[0][1]\\n    doc\\n  else :\\n    if w_count != 0:\\n      list(doc[doc_count])[0][1] = a\\n    a = \"\"\\n    a += list(i)[0][1]\\n    source_list.append(list(i)[1][1])\\n    doc_count = w_count\\n  w_count += 1\\nprint(doc)'"
            ],
            "application/vnd.google.colaboratory.intrinsic+json": {
              "type": "string"
            }
          },
          "metadata": {},
          "execution_count": 298
        }
      ]
    },
    {
      "cell_type": "code",
      "source": [
        "\"\"\"a = \"\"\n",
        "source_list = []\n",
        "text_list = []\n",
        "for i in docs:\n",
        "  if list(i)[1][1] in source_list:\n",
        "    a += list(i)[0][1]\n",
        "  else :\n",
        "    a = \"\"\n",
        "    a += list(i)[0][1]\n",
        "  text_list.append(a)\n",
        "  source_list.append(list(i)[1][1])\n",
        "print(text_list)\"\"\""
      ],
      "metadata": {
        "colab": {
          "base_uri": "https://localhost:8080/",
          "height": 35
        },
        "id": "Pi_l7pjxE5o3",
        "outputId": "4fa36ba6-b927-49ce-bc08-3f61f142d575"
      },
      "execution_count": null,
      "outputs": [
        {
          "output_type": "execute_result",
          "data": {
            "text/plain": [
              "'a = \"\"\\nsource_list = []\\ntext_list = []\\nfor i in docs:\\n  if list(i)[1][1] in source_list:\\n    a += list(i)[0][1]\\n  else :\\n    a = \"\"\\n    a += list(i)[0][1]\\n  text_list.append(a)\\n  source_list.append(list(i)[1][1])\\nprint(text_list)'"
            ],
            "application/vnd.google.colaboratory.intrinsic+json": {
              "type": "string"
            }
          },
          "metadata": {},
          "execution_count": 299
        }
      ]
    },
    {
      "cell_type": "code",
      "execution_count": null,
      "metadata": {
        "id": "6NqrkppFuMlP",
        "colab": {
          "base_uri": "https://localhost:8080/",
          "height": 373
        },
        "outputId": "832cb3a5-d6e2-4127-87d3-945dca3b4bae"
      },
      "outputs": [
        {
          "output_type": "error",
          "ename": "TypeError",
          "evalue": "ignored",
          "traceback": [
            "\u001b[0;31m---------------------------------------------------------------------------\u001b[0m",
            "\u001b[0;31mTypeError\u001b[0m                                 Traceback (most recent call last)",
            "\u001b[0;32m<ipython-input-302-2c7ceabc8218>\u001b[0m in \u001b[0;36m<cell line: 1>\u001b[0;34m()\u001b[0m\n\u001b[0;32m----> 1\u001b[0;31m db = Chroma.from_documents(docs, embedding=embeddings, \n\u001b[0m\u001b[1;32m      2\u001b[0m                            persist_directory=\"school_index_hf\")\n\u001b[1;32m      3\u001b[0m \u001b[0mdb\u001b[0m\u001b[0;34m.\u001b[0m\u001b[0mpersist\u001b[0m\u001b[0;34m(\u001b[0m\u001b[0;34m)\u001b[0m\u001b[0;34m\u001b[0m\u001b[0;34m\u001b[0m\u001b[0m\n",
            "\u001b[0;32m/usr/local/lib/python3.10/dist-packages/langchain/vectorstores/chroma.py\u001b[0m in \u001b[0;36mfrom_documents\u001b[0;34m(cls, documents, embedding, ids, collection_name, persist_directory, client_settings, client, collection_metadata, **kwargs)\u001b[0m\n\u001b[1;32m    644\u001b[0m         \u001b[0mtexts\u001b[0m \u001b[0;34m=\u001b[0m \u001b[0;34m[\u001b[0m\u001b[0mdoc\u001b[0m\u001b[0;34m.\u001b[0m\u001b[0mpage_content\u001b[0m \u001b[0;32mfor\u001b[0m \u001b[0mdoc\u001b[0m \u001b[0;32min\u001b[0m \u001b[0mdocuments\u001b[0m\u001b[0;34m]\u001b[0m\u001b[0;34m\u001b[0m\u001b[0;34m\u001b[0m\u001b[0m\n\u001b[1;32m    645\u001b[0m         \u001b[0mmetadatas\u001b[0m \u001b[0;34m=\u001b[0m \u001b[0;34m[\u001b[0m\u001b[0mdoc\u001b[0m\u001b[0;34m.\u001b[0m\u001b[0mmetadata\u001b[0m \u001b[0;32mfor\u001b[0m \u001b[0mdoc\u001b[0m \u001b[0;32min\u001b[0m \u001b[0mdocuments\u001b[0m\u001b[0;34m]\u001b[0m\u001b[0;34m\u001b[0m\u001b[0;34m\u001b[0m\u001b[0m\n\u001b[0;32m--> 646\u001b[0;31m         return cls.from_texts(\n\u001b[0m\u001b[1;32m    647\u001b[0m             \u001b[0mtexts\u001b[0m\u001b[0;34m=\u001b[0m\u001b[0mtexts\u001b[0m\u001b[0;34m,\u001b[0m\u001b[0;34m\u001b[0m\u001b[0;34m\u001b[0m\u001b[0m\n\u001b[1;32m    648\u001b[0m             \u001b[0membedding\u001b[0m\u001b[0;34m=\u001b[0m\u001b[0membedding\u001b[0m\u001b[0;34m,\u001b[0m\u001b[0;34m\u001b[0m\u001b[0;34m\u001b[0m\u001b[0m\n",
            "\u001b[0;32m/usr/local/lib/python3.10/dist-packages/langchain/vectorstores/chroma.py\u001b[0m in \u001b[0;36mfrom_texts\u001b[0;34m(cls, texts, embedding, metadatas, ids, collection_name, persist_directory, client_settings, client, collection_metadata, **kwargs)\u001b[0m\n\u001b[1;32m    608\u001b[0m             \u001b[0;34m**\u001b[0m\u001b[0mkwargs\u001b[0m\u001b[0;34m,\u001b[0m\u001b[0;34m\u001b[0m\u001b[0;34m\u001b[0m\u001b[0m\n\u001b[1;32m    609\u001b[0m         )\n\u001b[0;32m--> 610\u001b[0;31m         \u001b[0mchroma_collection\u001b[0m\u001b[0;34m.\u001b[0m\u001b[0madd_texts\u001b[0m\u001b[0;34m(\u001b[0m\u001b[0mtexts\u001b[0m\u001b[0;34m=\u001b[0m\u001b[0mtexts\u001b[0m\u001b[0;34m,\u001b[0m \u001b[0mmetadatas\u001b[0m\u001b[0;34m=\u001b[0m\u001b[0mmetadatas\u001b[0m\u001b[0;34m,\u001b[0m \u001b[0mids\u001b[0m\u001b[0;34m=\u001b[0m\u001b[0mids\u001b[0m\u001b[0;34m)\u001b[0m\u001b[0;34m\u001b[0m\u001b[0;34m\u001b[0m\u001b[0m\n\u001b[0m\u001b[1;32m    611\u001b[0m         \u001b[0;32mreturn\u001b[0m \u001b[0mchroma_collection\u001b[0m\u001b[0;34m\u001b[0m\u001b[0;34m\u001b[0m\u001b[0m\n\u001b[1;32m    612\u001b[0m \u001b[0;34m\u001b[0m\u001b[0m\n",
            "\u001b[0;32m/usr/local/lib/python3.10/dist-packages/langchain/vectorstores/chroma.py\u001b[0m in \u001b[0;36madd_texts\u001b[0;34m(self, texts, metadatas, ids, **kwargs)\u001b[0m\n\u001b[1;32m    186\u001b[0m         \u001b[0mtexts\u001b[0m \u001b[0;34m=\u001b[0m \u001b[0mlist\u001b[0m\u001b[0;34m(\u001b[0m\u001b[0mtexts\u001b[0m\u001b[0;34m)\u001b[0m\u001b[0;34m\u001b[0m\u001b[0;34m\u001b[0m\u001b[0m\n\u001b[1;32m    187\u001b[0m         \u001b[0;32mif\u001b[0m \u001b[0mself\u001b[0m\u001b[0;34m.\u001b[0m\u001b[0m_embedding_function\u001b[0m \u001b[0;32mis\u001b[0m \u001b[0;32mnot\u001b[0m \u001b[0;32mNone\u001b[0m\u001b[0;34m:\u001b[0m\u001b[0;34m\u001b[0m\u001b[0;34m\u001b[0m\u001b[0m\n\u001b[0;32m--> 188\u001b[0;31m             \u001b[0membeddings\u001b[0m \u001b[0;34m=\u001b[0m \u001b[0mself\u001b[0m\u001b[0;34m.\u001b[0m\u001b[0m_embedding_function\u001b[0m\u001b[0;34m.\u001b[0m\u001b[0membed_documents\u001b[0m\u001b[0;34m(\u001b[0m\u001b[0mtexts\u001b[0m\u001b[0;34m)\u001b[0m\u001b[0;34m\u001b[0m\u001b[0;34m\u001b[0m\u001b[0m\n\u001b[0m\u001b[1;32m    189\u001b[0m         \u001b[0;32mif\u001b[0m \u001b[0mmetadatas\u001b[0m\u001b[0;34m:\u001b[0m\u001b[0;34m\u001b[0m\u001b[0;34m\u001b[0m\u001b[0m\n\u001b[1;32m    190\u001b[0m             \u001b[0;31m# fill metadatas with empty dicts if somebody\u001b[0m\u001b[0;34m\u001b[0m\u001b[0;34m\u001b[0m\u001b[0m\n",
            "\u001b[0;31mTypeError\u001b[0m: HuggingFaceEmbeddings.embed_documents() missing 1 required positional argument: 'texts'"
          ]
        }
      ],
      "source": [
        "db = Chroma.from_documents(docs, embedding=embeddings,\n",
        "                           persist_directory=\"school_index_hf\")\n",
        "db.persist()"
      ]
    },
    {
      "cell_type": "code",
      "execution_count": null,
      "metadata": {
        "id": "46ckIOdHuMn_"
      },
      "outputs": [],
      "source": [
        "query = \"장학생\"\n",
        "docs = db.similarity_search(query)"
      ]
    },
    {
      "cell_type": "code",
      "execution_count": null,
      "metadata": {
        "id": "7cPhclHJ0lfF"
      },
      "outputs": [],
      "source": [
        "docs[:5]"
      ]
    }
  ],
  "metadata": {
    "colab": {
      "provenance": []
    },
    "kernelspec": {
      "display_name": "Python 3",
      "name": "python3"
    },
    "language_info": {
      "name": "python"
    }
  },
  "nbformat": 4,
  "nbformat_minor": 0
}