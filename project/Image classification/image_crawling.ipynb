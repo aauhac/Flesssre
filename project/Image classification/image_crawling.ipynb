{
 "cells": [
  {
   "cell_type": "code",
   "execution_count": 35,
   "id": "064fa223",
   "metadata": {},
   "outputs": [
    {
     "name": "stdout",
     "output_type": "stream",
     "text": [
      "Directory './train/금오공대 디지털관 건물' created successfully.\n",
      "Directory './train/금오공대 글로벌관 건물' created successfully.\n"
     ]
    }
   ],
   "source": [
    "from selenium import webdriver\n",
    "from selenium.webdriver.common.keys import Keys\n",
    "import time\n",
    "import urllib.request\n",
    "import os\n",
    "from selenium.webdriver.common.by import By\n",
    "\n",
    "\n",
    "def createDirectory(directory):\n",
    "    try:\n",
    "        if not os.path.exists(directory):\n",
    "            os.makedirs(directory)\n",
    "            print(f\"Directory '{directory}' created successfully.\")\n",
    "        else:\n",
    "            print(f\"Directory '{directory}' already exists.\")\n",
    "    except OSError as e:\n",
    "        print(f\"Error: Failed to create the directory '{directory}'. {e}\")\n",
    "\n",
    "def crawling_img(name):\n",
    "    driver = webdriver.Chrome()\n",
    "    driver.get(\"https://www.google.co.kr/imghp?hl=ko&tab=wi&authuser=0&ogbl\")\n",
    "    elem = driver.find_element(By.NAME, 'q')\n",
    "    elem.send_keys(name)\n",
    "    elem.send_keys(Keys.RETURN)\n",
    "    \n",
    "    #\n",
    "    SCROLL_PAUSE_TIME = 1\n",
    "    # Get scroll height\n",
    "    last_height = driver.execute_script(\"return document.body.scrollHeight\")  # 브라우저의 높이를 자바스크립트로 찾음\n",
    "    while True:\n",
    "        # Scroll down to bottom\n",
    "        driver.execute_script(\"window.scrollTo(0, document.body.scrollHeight);\")  # 브라우저 끝까지 스크롤을 내림\n",
    "        # Wait to load page\n",
    "        time.sleep(SCROLL_PAUSE_TIME)\n",
    "        # Calculate new scroll height and compare with last scroll height\n",
    "        new_height = driver.execute_script(\"return document.body.scrollHeight\")\n",
    "        if new_height == last_height:\n",
    "            try:\n",
    "                driver.find_element(By.CSS_SELECTOR, '.mye4qd').click()\n",
    "            except:\n",
    "                break\n",
    "        last_height = new_height\n",
    "    \n",
    "    img = []\n",
    "    imgs = driver.find_element(By.CSS_SELECTOR, '.rg_i.Q4LuWd')\n",
    "    dir = \"./train\" + \"/\" + name\n",
    "\n",
    "\n",
    "    imgs = driver.find_elements(By.CSS_SELECTOR, '.islrc > div')\n",
    "    \n",
    "    for i in imgs:\n",
    "        img_url = i.find_element(By.CSS_SELECTOR, 'a > div > img').get_attribute(\"src\")\n",
    "        if img_url and not img_url.startswith(\"data:image\"):\n",
    "            img.append(img_url)\n",
    "        \n",
    "    img_len = len(img)\n",
    "    createDirectory(\"./train/\" + name)\n",
    "    count = 1\n",
    "    for i in img:\n",
    "        try:\n",
    "            path = \"./train/\" + name + \"/\"\n",
    "            urllib.request.urlretrieve(i, f\"{path}{count}.jpg\")\n",
    "            count += 1\n",
    "\n",
    "            if count >= img_len:\n",
    "                break\n",
    "        except Exception as e:\n",
    "            print(f\"Error occurred while downloading image: {e}\")\n",
    "\n",
    "    driver.close()\n",
    "rjsanf = [\"금오공대 디지털관 건물\", \"금오공대 글로벌관 건물\"]\n",
    "\n",
    "for i in rjsanf:\n",
    "    crawling_img(i)"
   ]
  }
 ],
 "metadata": {
  "kernelspec": {
   "display_name": "Python 3 (ipykernel)",
   "language": "python",
   "name": "python3"
  },
  "language_info": {
   "codemirror_mode": {
    "name": "ipython",
    "version": 3
   },
   "file_extension": ".py",
   "mimetype": "text/x-python",
   "name": "python",
   "nbconvert_exporter": "python",
   "pygments_lexer": "ipython3",
   "version": "3.11.4"
  }
 },
 "nbformat": 4,
 "nbformat_minor": 5
}
