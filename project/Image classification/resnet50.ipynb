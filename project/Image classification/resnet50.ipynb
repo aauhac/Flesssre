{
 "cells": [
  {
   "cell_type": "code",
   "execution_count": 3,
   "id": "e95db1f9",
   "metadata": {
    "scrolled": false
   },
   "outputs": [
    {
     "name": "stdout",
     "output_type": "stream",
     "text": [
      "Found 526 images belonging to 7 classes.\n",
      "Downloading data from https://storage.googleapis.com/tensorflow/keras-applications/resnet/resnet50_weights_tf_dim_ordering_tf_kernels_notop.h5\n",
      "94765736/94765736 [==============================] - 9s 0us/step\n",
      "Epoch 1/10\n",
      "17/17 [==============================] - 30s 2s/step - loss: 2.0920 - accuracy: 0.2452\n",
      "Epoch 2/10\n",
      "17/17 [==============================] - 29s 2s/step - loss: 1.7450 - accuracy: 0.3555\n",
      "Epoch 3/10\n",
      "17/17 [==============================] - 28s 2s/step - loss: 1.5349 - accuracy: 0.4848\n",
      "Epoch 4/10\n",
      "17/17 [==============================] - 27s 2s/step - loss: 1.3459 - accuracy: 0.5722\n",
      "Epoch 5/10\n",
      "17/17 [==============================] - 28s 2s/step - loss: 1.2482 - accuracy: 0.5932\n",
      "Epoch 6/10\n",
      "17/17 [==============================] - 28s 2s/step - loss: 1.1568 - accuracy: 0.5989\n",
      "Epoch 7/10\n",
      "17/17 [==============================] - 27s 2s/step - loss: 1.0053 - accuracy: 0.7319\n",
      "Epoch 8/10\n",
      "17/17 [==============================] - 27s 2s/step - loss: 0.8907 - accuracy: 0.7605\n",
      "Epoch 9/10\n",
      "17/17 [==============================] - 28s 2s/step - loss: 0.8309 - accuracy: 0.7452\n",
      "Epoch 10/10\n",
      "17/17 [==============================] - 29s 2s/step - loss: 0.7335 - accuracy: 0.7852\n"
     ]
    },
    {
     "data": {
      "text/plain": [
       "<keras.src.callbacks.History at 0x20495efac90>"
      ]
     },
     "execution_count": 3,
     "metadata": {},
     "output_type": "execute_result"
    }
   ],
   "source": [
    "import tensorflow as tf\n",
    "from tensorflow.keras.preprocessing import image\n",
    "from tensorflow.keras.applications.resnet50 import ResNet50, preprocess_input\n",
    "from tensorflow.keras.layers import Dense, GlobalAveragePooling2D\n",
    "from tensorflow.keras.models import Model\n",
    "from tensorflow.keras.optimizers import Adam\n",
    "from tensorflow.keras.preprocessing.image import ImageDataGenerator\n",
    "\n",
    "# 데이터 경로 설정\n",
    "data_path = \"./dataset/train/digital_img\"  # 여기에는 데이터셋의 경로를 입력하세요.\n",
    "\n",
    "# 이미지 데이터 증강을 위한 ImageDataGenerator 생성\n",
    "train_datagen = ImageDataGenerator(\n",
    "    rescale=1./255,  # 이미지 값을 0과 1 사이로 조정\n",
    "    shear_range=0.2,\n",
    "    zoom_range=0.2,\n",
    "    horizontal_flip=True\n",
    ")\n",
    "\n",
    "# 데이터셋 로딩 및 전처리\n",
    "train_generator = train_datagen.flow_from_directory(\n",
    "    data_path,\n",
    "    target_size=(224, 224),  # ResNet50의 기본 입력 크기에 맞춤\n",
    "    batch_size=32,\n",
    "    class_mode='categorical',  # 다중 클래스 분류\n",
    "    shuffle=True\n",
    ")\n",
    "\n",
    "# ResNet50 모델 불러오기 (include_top=False로 변경)\n",
    "base_model = ResNet50(weights='imagenet', include_top=False)\n",
    "\n",
    "# 새로운 분류 층 추가\n",
    "x = base_model.output\n",
    "x = GlobalAveragePooling2D()(x)\n",
    "x = Dense(1024, activation='relu')(x)\n",
    "predictions = Dense(7, activation='softmax')(x)  # 클래스 수에 맞게 조정\n",
    "\n",
    "# 새로운 모델 구성\n",
    "model = Model(inputs=base_model.input, outputs=predictions)\n",
    "\n",
    "# 미리 학습된 층은 동결 (Fine-tuning을 위한 기본 설정)\n",
    "for layer in base_model.layers:\n",
    "    layer.trainable = False\n",
    "\n",
    "# 모델 컴파일\n",
    "model.compile(optimizer=Adam(), loss='categorical_crossentropy', metrics=['accuracy'])\n",
    "\n",
    "# Fine-tuning 진행\n",
    "history = model.fit(train_generator, epochs=10, steps_per_epoch=len(train_generator))"
   ]
  },
  {
   "cell_type": "code",
   "execution_count": 28,
   "id": "c841140a",
   "metadata": {
    "scrolled": true
   },
   "outputs": [
    {
     "name": "stdout",
     "output_type": "stream",
     "text": [
      "1/1 [==============================] - 0s 76ms/step\n",
      "Predicted label: foun\n"
     ]
    }
   ],
   "source": [
    "import numpy as np\n",
    "from tensorflow.keras.preprocessing import image\n",
    "\n",
    "# 예측할 이미지 로드 및 전처리\n",
    "image_path = \"pred/pre3.jpg\"  # 예측하고자 하는 이미지의 경로를 입력하세요.\n",
    "img = image.load_img(image_path, target_size=(224, 224))\n",
    "img_array = image.img_to_array(img)\n",
    "img_array = np.expand_dims(img_array, axis=0)\n",
    "img_array /= 255.0  # 이미지를 [0, 1] 범위로 정규화\n",
    "\n",
    "# 모델에 입력 이미지 전달하여 예측 수행\n",
    "predictions = model.predict(img_array)\n",
    "\n",
    "# 예측 결과 출력\n",
    "predicted_class = np.argmax(predictions)\n",
    "\n",
    "class_labels = list(train_generator.class_indices.keys())\n",
    "predicted_label = class_labels[predicted_class]\n",
    "\n",
    "print(\"Predicted label:\", predicted_label)"
   ]
  }
 ],
 "metadata": {
  "kernelspec": {
   "display_name": "Python 3 (ipykernel)",
   "language": "python",
   "name": "python3"
  },
  "language_info": {
   "codemirror_mode": {
    "name": "ipython",
    "version": 3
   },
   "file_extension": ".py",
   "mimetype": "text/x-python",
   "name": "python",
   "nbconvert_exporter": "python",
   "pygments_lexer": "ipython3",
   "version": "3.11.4"
  }
 },
 "nbformat": 4,
 "nbformat_minor": 5
}
